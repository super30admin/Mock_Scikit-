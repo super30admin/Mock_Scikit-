import pandas as pd
from sklearn.preprocessing import LabelEncoder
from sklearn.model_selection import train_test_split
from sklearn.ensemble import RandomForestClassifier
from sklearn.neighbors import KNeighborsClassifier
from sklearn.linear_model import LogisticRegression
from sklearn.svm import SVC
from sklearn.metrics import accuracy_score
import numpy as np
from sklearn.preprocessing import StandardScaler

dataset = pd.read_csv('Telco-Customer-Churn.csv')
dataset.head()

dataset['gender'] = LabelEncoder().fit_transform(dataset['gender'])
dataset['Dependents'] = LabelEncoder().fit_transform(dataset['Dependents'])
dataset['Partner'] = LabelEncoder().fit_transform(dataset['Partner'])
dataset['PhoneService'] = LabelEncoder().fit_transform(dataset['PhoneService'])
dataset['MultipleLines'] = LabelEncoder().fit_transform(dataset['MultipleLines'])
dataset['InternetService'] = LabelEncoder().fit_transform(dataset['InternetService'])
dataset['OnlineSecurity'] = LabelEncoder().fit_transform(dataset['OnlineSecurity'])
dataset['OnlineBackup'] = LabelEncoder().fit_transform(dataset['OnlineBackup'])
dataset['DeviceProtection'] = LabelEncoder().fit_transform(dataset['DeviceProtection'])
dataset['TechSupport'] = LabelEncoder().fit_transform(dataset['TechSupport'])
dataset['StreamingTV'] = LabelEncoder().fit_transform(dataset['StreamingTV'])
dataset['StreamingMovies'] = LabelEncoder().fit_transform(dataset['StreamingMovies'])
dataset['Contract'] = LabelEncoder().fit_transform(dataset['Contract'])
dataset['PaperlessBilling'] = LabelEncoder().fit_transform(dataset['PaperlessBilling'])
dataset['PaymentMethod'] = LabelEncoder().fit_transform(dataset['PaymentMethod'])
dataset['Churn'] = LabelEncoder().fit_transform(dataset['Churn'])

# dataset.head()

dataset.isnull().any()

X = dataset.iloc[:,1:18].values
y = dataset.iloc[:,-1:].values
X_train,X_test,y_train,y_test = train_test_split(X,y,test_size=0.20,random_state=42)

sc = StandardScaler()
X_train = sc.fit_transform(X_train)
X_test = sc.transform(X_test)

model1 = LogisticRegression()
model2 = KNeighborsClassifier(n_neighbors=3)
model3 = RandomForestClassifier(n_estimators=100, random_state=42)
model4 = SVC(kernel = 'linear', C=1)

model1.fit(X_train, y_train)
model2.fit(X_train,y_train)
model3.fit(X_train,y_train)
model4.fit(X_train,y_train)

y_pred1 = model1.predict(X_test)
y_pred2 = model2.predict(X_test)
y_pred3 = model3.predict(X_test)
y_pred4 = model4.predict(X_test)

accuracy1 = accuracy_score(y_pred1, y_test)
accuracy2 = accuracy_score(y_pred2, y_test)
accuracy3 = accuracy_score(y_pred3, y_test)
accuracy4 = accuracy_score(y_pred4, y_test)

accuracy1 #0.801277501774308 -> LogisticRegression
accuracy2 #0.7430801987224982 -> KNeighborsClassifier
accuracy3 #0.7913413768630234 -> RandomForestClassifier
accuracy4 #0.794180269694819 -> SVC

So in this case LogisticRegression has slightly better accuracy (80.12%) than other models